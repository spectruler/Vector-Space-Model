{
 "cells": [
  {
   "cell_type": "code",
   "execution_count": 1,
   "metadata": {},
   "outputs": [],
   "source": [
    "# importing libraries\n",
    "import rarfile\n",
    "import math\n",
    "import sys\n",
    "import functools\n",
    "import ipywidgets as widgets\n",
    "from IPython.display import display\n",
    "from IPython.display import clear_output\n",
    "from ipywidgets import Layout"
   ]
  },
  {
   "cell_type": "code",
   "execution_count": 2,
   "metadata": {},
   "outputs": [],
   "source": [
    "#docs \n",
    "\n",
    "output = widgets.Textarea(description=\"Documents\",layout=Layout(width=\"50%\",height=\"150px\"))\n",
    "length = widgets.Text(description=\"Documents\")\n",
    "\n",
    "X = [i for i in range(1,51)]\n",
    "N = 50 # Total no of docs\n",
    "#exclude characters:\n",
    "exclude = '.,!?;--:\"()\\n\\t{}[]<>&*#$@  \\''\n",
    "\n",
    "dictionary = set()\n",
    "postings = {} # tf\n",
    "df = {} # document frequency\n",
    "query_tf = {}\n"
   ]
  },
  {
   "cell_type": "code",
   "execution_count": 3,
   "metadata": {},
   "outputs": [],
   "source": [
    "#rar file path\n",
    "rar_path = rarfile.RarFile(\"./ShortStories.rar\")\n",
    "\n",
    "#stop words\n",
    "stopwords = open('Stopword-List.txt',mode='r')\n",
    "stopwords = [i.split(\"\\n\")[0] for i in stopwords]\n",
    "stopwords.sort()\n",
    "stopwords = set(stopwords)"
   ]
  },
  {
   "cell_type": "code",
   "execution_count": 4,
   "metadata": {},
   "outputs": [],
   "source": [
    "# read docs and find term frequency\n",
    "for i in range(1,51):\n",
    "    filename = f'{i}.txt'\n",
    "    file = rarfile.RarFile.open(rar_path,filename,mode='r')\n",
    "    file = list(filter(None,file.read().splitlines()))\n",
    "    file = [str(i,'ISO-8859-1') for i in file] # bytes into string\n",
    "    #remove title and author\n",
    "    #file = file[2:]\n",
    "    file = [k.lower() for k in file] #case folding\n",
    "    file = [h.split() for h in file]\n",
    "    file = [j for k in file for j in k]\n",
    "    \n",
    "    j = [h.split() for h in file]\n",
    "    k = []\n",
    "    for h in j:\n",
    "        for a in h:\n",
    "            # chop words\n",
    "            if a in exclude:\n",
    "                continue\n",
    "            #exclude terms\n",
    "            for b in exclude:\n",
    "                if b in a:\n",
    "                    if b == '-':\n",
    "                        d =  a.split(\"-\")\n",
    "                        k.append(d[0])\n",
    "                        a = d[1]\n",
    "                    else:   \n",
    "                        a = a.replace(b,\"\")\n",
    "            k.append(a)\n",
    "            \n",
    "    file = k\n",
    "    file = [k.strip(exclude) for k in file]\n",
    "    terms = set(file)\n",
    "    dictionary = dictionary.union(terms)\n",
    "    for term in terms:\n",
    "        try:\n",
    "            postings[term][i] = 1+math.log10(file.count(term)) # term frequency\n",
    "        except:\n",
    "            postings[term] = {}\n",
    "            postings[term][i] = 1+math.log10(file.count(term))\n"
   ]
  },
  {
   "cell_type": "code",
   "execution_count": 5,
   "metadata": {},
   "outputs": [],
   "source": [
    "def idf(term): # finding inverse document frequency\n",
    "    if term in dictionary:\n",
    "        return math.log10(N/df[term])\n",
    "    else:\n",
    "        return 0.0"
   ]
  },
  {
   "cell_type": "code",
   "execution_count": 6,
   "metadata": {},
   "outputs": [],
   "source": [
    "#find document frequency   \n",
    "for term in dictionary:\n",
    "    df[term] = len(postings[term])\n",
    "    \n",
    "def tf_idf(term,doc_id): #finding tf*idf\n",
    "        if doc_id in postings[term]:\n",
    "            return postings[term][doc_id]*idf(term)\n",
    "        else:\n",
    "            return 0.0\n"
   ]
  },
  {
   "cell_type": "code",
   "execution_count": 7,
   "metadata": {},
   "outputs": [],
   "source": [
    "def search(query):\n",
    "    query = query.lower().split()\n",
    "    query = [term.strip(exclude) for term in query]\n",
    "    \n",
    "    global output\n",
    "    global length\n",
    "    \n",
    "    output.close()\n",
    "    length.close()\n",
    "    \n",
    "    output = widgets.Textarea(description=\"Documents\",disabled=True,layout=Layout(width=\"70%\",height=\"250px\"))\n",
    "    length = widgets.Text(description=\"Documents\",disabled=True)\n",
    "    \n",
    "    if query == []:\n",
    "        sys.exit()\n",
    "        \n",
    "    for term in query:\n",
    "        query_tf[term] = 1+math.log10(query.count(term)) # term frequency\n",
    "            \n",
    "    rel = [set(postings[term].keys()) for term in query]\n",
    "    rel_doc_ids = functools.reduce(set.union,[s for s in rel])\n",
    "    \n",
    "    if not rel_doc_ids:\n",
    "        output.value = f'\\nNo document matched to the given query terms!!!'\n",
    "        display(output)\n",
    "        return f'\\nNo document matched to the given query terms!!!'\n",
    "    else:\n",
    "        scores = sorted([(doc_id,sim(query,doc_id)) for doc_id in rel_doc_ids], key= lambda x:x[1],reverse = True)\n",
    "        #print(f'\\n{len(scores)} documents')\n",
    "        output.value = \"\"\n",
    "        \n",
    "        length.value = f'\\n{len(scores)} documents'\n",
    "        for (doc_id,score) in scores:\n",
    "            if score >= 0.005:\n",
    "                output.value = output.value + str(score)+\": \"+f'{doc_id}.txt\\n'\n",
    "                \n",
    "        display(length,output)\n",
    "                #print(str(score)+\": \"+f'{doc_id}.txt')\n"
   ]
  },
  {
   "cell_type": "code",
   "execution_count": 8,
   "metadata": {},
   "outputs": [],
   "source": [
    "# find magnitude of document \n",
    "def magnitude(doc_id):\n",
    "    mag = 0.0\n",
    "    for term in postings:\n",
    "        if doc_id in postings[term]:\n",
    "            mag += tf_idf(term,doc_id)**2\n",
    "    return math.sqrt(mag)\n"
   ]
  },
  {
   "cell_type": "code",
   "execution_count": 9,
   "metadata": {},
   "outputs": [],
   "source": [
    "def sim(query,doc_id): \n",
    "    similarity = 0.0\n",
    "    query_mag = 0.0\n",
    "    for term in query:\n",
    "        if term in dictionary:\n",
    "            q_tf_idf = query_tf[term]*idf(term)\n",
    "            similarity += q_tf_idf*tf_idf(term,doc_id)\n",
    "            query_mag += q_tf_idf**2\n",
    "    similarity = similarity / ((math.sqrt(q_tf_idf) *magnitude(doc_id)))\n",
    "    return similarity"
   ]
  },
  {
   "cell_type": "code",
   "execution_count": 10,
   "metadata": {},
   "outputs": [],
   "source": [
    "def query():\n",
    "    text = widgets.Text(description='Text')\n",
    "    #length.close()\n",
    "    #output.close()\n",
    "    b = widgets.Button(description=\"Process\",button_style=\"success\")\n",
    "    display(text,b)\n",
    "    b.on_click(lambda a:search(text.value))"
   ]
  },
  {
   "cell_type": "code",
   "execution_count": 11,
   "metadata": {},
   "outputs": [
    {
     "data": {
      "application/vnd.jupyter.widget-view+json": {
       "model_id": "558e4d7ffc64472eb392af0bfa9d6e3f",
       "version_major": 2,
       "version_minor": 0
      },
      "text/plain": [
       "Text(value='', description='Text')"
      ]
     },
     "metadata": {},
     "output_type": "display_data"
    },
    {
     "data": {
      "application/vnd.jupyter.widget-view+json": {
       "model_id": "4aab76eda47e43359fe38cb66255af53",
       "version_major": 2,
       "version_minor": 0
      },
      "text/plain": [
       "Button(button_style='success', description='Process', style=ButtonStyle())"
      ]
     },
     "metadata": {},
     "output_type": "display_data"
    },
    {
     "data": {
      "application/vnd.jupyter.widget-view+json": {
       "model_id": "",
       "version_major": 2,
       "version_minor": 0
      },
      "text/plain": [
       "Text(value='\\n7 documents', description='Documents', disabled=True)"
      ]
     },
     "metadata": {},
     "output_type": "display_data"
    },
    {
     "data": {
      "application/vnd.jupyter.widget-view+json": {
       "model_id": "",
       "version_major": 2,
       "version_minor": 0
      },
      "text/plain": [
       "Textarea(value='0.09328734919142383: 14.txt\\n0.07734159505163755: 23.txt\\n0.0554382339273266: 42.txt\\n0.052178…"
      ]
     },
     "metadata": {},
     "output_type": "display_data"
    },
    {
     "data": {
      "application/vnd.jupyter.widget-view+json": {
       "model_id": "",
       "version_major": 2,
       "version_minor": 0
      },
      "text/plain": [
       "Text(value='\\n13 documents', description='Documents', disabled=True)"
      ]
     },
     "metadata": {},
     "output_type": "display_data"
    },
    {
     "data": {
      "application/vnd.jupyter.widget-view+json": {
       "model_id": "",
       "version_major": 2,
       "version_minor": 0
      },
      "text/plain": [
       "Textarea(value='0.11504012366250002: 14.txt\\n0.09537613337836535: 23.txt\\n0.04588539397783557: 2.txt\\n0.044658…"
      ]
     },
     "metadata": {},
     "output_type": "display_data"
    },
    {
     "data": {
      "application/vnd.jupyter.widget-view+json": {
       "model_id": "",
       "version_major": 2,
       "version_minor": 0
      },
      "text/plain": [
       "Text(value='\\n7 documents', description='Documents', disabled=True)"
      ]
     },
     "metadata": {},
     "output_type": "display_data"
    },
    {
     "data": {
      "application/vnd.jupyter.widget-view+json": {
       "model_id": "",
       "version_major": 2,
       "version_minor": 0
      },
      "text/plain": [
       "Textarea(value='0.09328734919142383: 14.txt\\n0.07734159505163755: 23.txt\\n0.0554382339273266: 42.txt\\n0.052178…"
      ]
     },
     "metadata": {},
     "output_type": "display_data"
    },
    {
     "data": {
      "application/vnd.jupyter.widget-view+json": {
       "model_id": "17a678624cce4cc18aadd819907a06a3",
       "version_major": 2,
       "version_minor": 0
      },
      "text/plain": [
       "Text(value='\\n13 documents', description='Documents', disabled=True)"
      ]
     },
     "metadata": {},
     "output_type": "display_data"
    },
    {
     "data": {
      "application/vnd.jupyter.widget-view+json": {
       "model_id": "75d1669d9b1b403c8095d373ff90396d",
       "version_major": 2,
       "version_minor": 0
      },
      "text/plain": [
       "Textarea(value='0.11504012366250002: 14.txt\\n0.09537613337836535: 23.txt\\n0.04588539397783557: 2.txt\\n0.044658…"
      ]
     },
     "metadata": {},
     "output_type": "display_data"
    }
   ],
   "source": [
    "query()"
   ]
  }
 ],
 "metadata": {
  "kernelspec": {
   "display_name": "Python 3",
   "language": "python",
   "name": "python3"
  },
  "language_info": {
   "codemirror_mode": {
    "name": "ipython",
    "version": 3
   },
   "file_extension": ".py",
   "mimetype": "text/x-python",
   "name": "python",
   "nbconvert_exporter": "python",
   "pygments_lexer": "ipython3",
   "version": "3.7.1"
  }
 },
 "nbformat": 4,
 "nbformat_minor": 2
}
